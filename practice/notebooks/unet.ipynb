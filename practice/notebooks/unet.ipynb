{
 "cells": [
  {
   "cell_type": "code",
   "execution_count": 1,
   "id": "96789ff0-4187-47b2-af8c-9a85f8b4e119",
   "metadata": {},
   "outputs": [],
   "source": [
    "import sys\n",
    "sys.path.append('../')  # 상위 디렉토리를 모듈 검색 경로에 추가\n",
    "import torch\n",
    "import torch.nn as nn\n",
    "from torchsummary import summary as model_summary\n",
    "\n",
    "from models import UNet"
   ]
  },
  {
   "cell_type": "code",
   "execution_count": 2,
   "id": "3caf4687-8075-4caa-bc05-878cdcf31492",
   "metadata": {
    "scrolled": true
   },
   "outputs": [
    {
     "name": "stdout",
     "output_type": "stream",
     "text": [
      "----------------------------------------------------------------\n",
      "        Layer (type)               Output Shape         Param #\n",
      "================================================================\n",
      "            Conv2d-1         [-1, 64, 570, 570]             640\n",
      "              ReLU-2         [-1, 64, 570, 570]               0\n",
      "            Conv2d-3         [-1, 64, 568, 568]          36,928\n",
      "              ReLU-4         [-1, 64, 568, 568]               0\n",
      "         MaxPool2d-5         [-1, 64, 284, 284]               0\n",
      "              ReLU-6         [-1, 64, 284, 284]               0\n",
      "            Conv2d-7        [-1, 128, 282, 282]          73,856\n",
      "              ReLU-8        [-1, 128, 282, 282]               0\n",
      "            Conv2d-9        [-1, 128, 280, 280]         147,584\n",
      "             ReLU-10        [-1, 128, 280, 280]               0\n",
      "        MaxPool2d-11        [-1, 128, 140, 140]               0\n",
      "             ReLU-12        [-1, 128, 140, 140]               0\n",
      "           Conv2d-13        [-1, 256, 138, 138]         295,168\n",
      "             ReLU-14        [-1, 256, 138, 138]               0\n",
      "           Conv2d-15        [-1, 256, 136, 136]         590,080\n",
      "             ReLU-16        [-1, 256, 136, 136]               0\n",
      "        MaxPool2d-17          [-1, 256, 68, 68]               0\n",
      "             ReLU-18          [-1, 256, 68, 68]               0\n",
      "           Conv2d-19          [-1, 512, 66, 66]       1,180,160\n",
      "             ReLU-20          [-1, 512, 66, 66]               0\n",
      "           Conv2d-21          [-1, 512, 64, 64]       2,359,808\n",
      "             ReLU-22          [-1, 512, 64, 64]               0\n",
      "        MaxPool2d-23          [-1, 512, 32, 32]               0\n",
      "             ReLU-24          [-1, 512, 32, 32]               0\n",
      "           Conv2d-25         [-1, 1024, 30, 30]       4,719,616\n",
      "             ReLU-26         [-1, 1024, 30, 30]               0\n",
      "           Conv2d-27         [-1, 1024, 28, 28]       9,438,208\n",
      "             ReLU-28         [-1, 1024, 28, 28]               0\n",
      "  ConvTranspose2d-29          [-1, 512, 56, 56]       2,097,664\n",
      "             ReLU-30         [-1, 1024, 56, 56]               0\n",
      "           Conv2d-31          [-1, 512, 54, 54]       4,719,104\n",
      "             ReLU-32          [-1, 512, 54, 54]               0\n",
      "           Conv2d-33          [-1, 512, 52, 52]       2,359,808\n",
      "             ReLU-34          [-1, 512, 52, 52]               0\n",
      "  ConvTranspose2d-35        [-1, 256, 104, 104]         524,544\n",
      "             ReLU-36        [-1, 512, 104, 104]               0\n",
      "           Conv2d-37        [-1, 256, 102, 102]       1,179,904\n",
      "             ReLU-38        [-1, 256, 102, 102]               0\n",
      "           Conv2d-39        [-1, 256, 100, 100]         590,080\n",
      "             ReLU-40        [-1, 256, 100, 100]               0\n",
      "  ConvTranspose2d-41        [-1, 128, 200, 200]         131,200\n",
      "             ReLU-42        [-1, 256, 200, 200]               0\n",
      "           Conv2d-43        [-1, 128, 198, 198]         295,040\n",
      "             ReLU-44        [-1, 128, 198, 198]               0\n",
      "           Conv2d-45        [-1, 128, 196, 196]         147,584\n",
      "             ReLU-46        [-1, 128, 196, 196]               0\n",
      "  ConvTranspose2d-47         [-1, 64, 392, 392]          32,832\n",
      "             ReLU-48        [-1, 128, 392, 392]               0\n",
      "           Conv2d-49         [-1, 64, 390, 390]          73,792\n",
      "             ReLU-50         [-1, 64, 390, 390]               0\n",
      "           Conv2d-51         [-1, 64, 388, 388]          36,928\n",
      "             ReLU-52         [-1, 64, 388, 388]               0\n",
      "           Conv2d-53          [-1, 2, 388, 388]             130\n",
      "================================================================\n",
      "Total params: 31,030,658\n",
      "Trainable params: 31,030,658\n",
      "Non-trainable params: 0\n",
      "----------------------------------------------------------------\n",
      "Input size (MB): 1.25\n",
      "Forward/backward pass size (MB): 2338.35\n",
      "Params size (MB): 118.37\n",
      "Estimated Total Size (MB): 2457.97\n",
      "----------------------------------------------------------------\n"
     ]
    }
   ],
   "source": [
    "model = UNet()\n",
    "model_summary(model, (1,572,572), device='cpu')"
   ]
  },
  {
   "cell_type": "code",
   "execution_count": null,
   "id": "68542bde-75ad-4456-b29b-7fc20da0e185",
   "metadata": {},
   "outputs": [],
   "source": []
  }
 ],
 "metadata": {
  "kernelspec": {
   "display_name": "Python 3 (ipykernel)",
   "language": "python",
   "name": "python3"
  },
  "language_info": {
   "codemirror_mode": {
    "name": "ipython",
    "version": 3
   },
   "file_extension": ".py",
   "mimetype": "text/x-python",
   "name": "python",
   "nbconvert_exporter": "python",
   "pygments_lexer": "ipython3",
   "version": "3.11.6"
  }
 },
 "nbformat": 4,
 "nbformat_minor": 5
}
