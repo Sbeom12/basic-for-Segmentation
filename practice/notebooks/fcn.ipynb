{
 "cells": [
  {
   "cell_type": "code",
   "execution_count": 1,
   "id": "fadaf5b2-c39a-42e3-9a39-beb398a53111",
   "metadata": {},
   "outputs": [],
   "source": [
    "import sys\n",
    "sys.path.append('../')  # 상위 디렉토리를 모듈 검색 경로에 추가\n",
    "import torch\n",
    "import torch.nn as nn\n",
    "from torchsummary import summary as model_summary\n",
    "\n",
    "from models import FCN"
   ]
  },
  {
   "cell_type": "code",
   "execution_count": 2,
   "id": "5768261c-96e2-4cae-9ee3-72790adb289f",
   "metadata": {
    "scrolled": true
   },
   "outputs": [
    {
     "name": "stdout",
     "output_type": "stream",
     "text": [
      "----------------------------------------------------------------\n",
      "        Layer (type)               Output Shape         Param #\n",
      "================================================================\n",
      "            Conv2d-1         [-1, 64, 224, 224]           1,792\n",
      "              ReLU-2         [-1, 64, 224, 224]               0\n",
      "       BatchNorm2d-3         [-1, 64, 224, 224]             128\n",
      "            Conv2d-4         [-1, 64, 224, 224]          36,928\n",
      "              ReLU-5         [-1, 64, 224, 224]               0\n",
      "       BatchNorm2d-6         [-1, 64, 224, 224]             128\n",
      "         MaxPool2d-7         [-1, 64, 112, 112]               0\n",
      "            Conv2d-8        [-1, 128, 112, 112]          73,856\n",
      "              ReLU-9        [-1, 128, 112, 112]               0\n",
      "      BatchNorm2d-10        [-1, 128, 112, 112]             256\n",
      "           Conv2d-11        [-1, 128, 112, 112]         147,584\n",
      "             ReLU-12        [-1, 128, 112, 112]               0\n",
      "      BatchNorm2d-13        [-1, 128, 112, 112]             256\n",
      "        MaxPool2d-14          [-1, 128, 56, 56]               0\n",
      "           Conv2d-15          [-1, 256, 56, 56]         295,168\n",
      "             ReLU-16          [-1, 256, 56, 56]               0\n",
      "      BatchNorm2d-17          [-1, 256, 56, 56]             512\n",
      "           Conv2d-18          [-1, 256, 56, 56]         590,080\n",
      "             ReLU-19          [-1, 256, 56, 56]               0\n",
      "      BatchNorm2d-20          [-1, 256, 56, 56]             512\n",
      "        MaxPool2d-21          [-1, 256, 28, 28]               0\n",
      "           Conv2d-22          [-1, 512, 28, 28]       1,180,160\n",
      "             ReLU-23          [-1, 512, 28, 28]               0\n",
      "      BatchNorm2d-24          [-1, 512, 28, 28]           1,024\n",
      "           Conv2d-25          [-1, 512, 28, 28]       2,359,808\n",
      "             ReLU-26          [-1, 512, 28, 28]               0\n",
      "      BatchNorm2d-27          [-1, 512, 28, 28]           1,024\n",
      "        MaxPool2d-28          [-1, 512, 14, 14]               0\n",
      "           Conv2d-29          [-1, 512, 14, 14]       2,359,808\n",
      "             ReLU-30          [-1, 512, 14, 14]               0\n",
      "      BatchNorm2d-31          [-1, 512, 14, 14]           1,024\n",
      "           Conv2d-32          [-1, 512, 14, 14]       2,359,808\n",
      "             ReLU-33          [-1, 512, 14, 14]               0\n",
      "      BatchNorm2d-34          [-1, 512, 14, 14]           1,024\n",
      "        MaxPool2d-35            [-1, 512, 7, 7]               0\n",
      "           Conv2d-36           [-1, 4096, 7, 7]      18,878,464\n",
      "             ReLU-37           [-1, 4096, 7, 7]               0\n",
      "      BatchNorm2d-38           [-1, 4096, 7, 7]           8,192\n",
      "           Conv2d-39           [-1, 4096, 7, 7]     150,999,040\n",
      "             ReLU-40           [-1, 4096, 7, 7]               0\n",
      "      BatchNorm2d-41           [-1, 4096, 7, 7]           8,192\n",
      "           Conv2d-42             [-1, 21, 7, 7]         774,165\n",
      "             ReLU-43             [-1, 21, 7, 7]               0\n",
      "      BatchNorm2d-44             [-1, 21, 7, 7]              42\n",
      "  ConvTranspose2d-45           [-1, 21, 14, 14]           7,077\n",
      "  ConvTranspose2d-46           [-1, 21, 28, 28]           7,077\n",
      "  ConvTranspose2d-47         [-1, 21, 224, 224]         112,917\n",
      "================================================================\n",
      "Total params: 180,206,046\n",
      "Trainable params: 180,206,046\n",
      "Non-trainable params: 0\n",
      "----------------------------------------------------------------\n",
      "Input size (MB): 0.57\n",
      "Forward/backward pass size (MB): 309.30\n",
      "Params size (MB): 687.43\n",
      "Estimated Total Size (MB): 997.31\n",
      "----------------------------------------------------------------\n"
     ]
    }
   ],
   "source": [
    "model = FCN()\n",
    "model_summary(model, (3,224,224), device='cpu')"
   ]
  },
  {
   "cell_type": "code",
   "execution_count": null,
   "id": "8a12199d-b601-4512-9a35-dafbedd463eb",
   "metadata": {},
   "outputs": [],
   "source": []
  }
 ],
 "metadata": {
  "kernelspec": {
   "display_name": "Python 3 (ipykernel)",
   "language": "python",
   "name": "python3"
  },
  "language_info": {
   "codemirror_mode": {
    "name": "ipython",
    "version": 3
   },
   "file_extension": ".py",
   "mimetype": "text/x-python",
   "name": "python",
   "nbconvert_exporter": "python",
   "pygments_lexer": "ipython3",
   "version": "3.11.6"
  }
 },
 "nbformat": 4,
 "nbformat_minor": 5
}
